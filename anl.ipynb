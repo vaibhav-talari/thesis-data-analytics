{
 "cells": [
  {
   "cell_type": "code",
   "execution_count": 12,
   "metadata": {},
   "outputs": [],
   "source": [
    "import gzip\n",
    "import re\n",
    "import pandas as pd\n",
    "import matplotlib.pyplot as plt"
   ]
  },
  {
   "cell_type": "code",
   "execution_count": 45,
   "metadata": {},
   "outputs": [],
   "source": [
    "log_file_path = \"log.txt.gz\"\n",
    "output_file = \"processed_logs.gz\"\n",
    "\n",
    "# Regular expression to extract fields\n",
    "log_pattern = re.compile(\n",
    "    r\"Struct\\{series_id=([\\w]+\\s?[\\w]+),location_id=(\\d+),meter_id=(\\d+),time=([\\d-]+\\s[\\d:.]+),value=(\\d+),value_status=([\\w]+),insert_time=([\\d-]+\\s[\\d:.]+),extract_time=([\\d-]+\\s[\\d:.]+)\\}\"\n",
    ")\n",
    "\n",
    "chunk_size = 1_000_000\n",
    "data = []"
   ]
  },
  {
   "cell_type": "code",
   "execution_count": 46,
   "metadata": {},
   "outputs": [
    {
     "name": "stdout",
     "output_type": "stream",
     "text": [
      "voltage 1,11,101,2023-11-25 12:00:00.0,230,Correct,2023-11-25 12:00:00.0,2023-11-25 12:00:00.0\n",
      "voltage 2,11,101,2023-11-25 12:00:00.0,220,Correct,2023-11-25 12:00:00.0,2023-11-25 12:00:00.0\n",
      "voltage 3,11,101,2023-11-25 12:00:00.0,330,Correct,2023-11-25 12:00:00.0,2023-11-25 12:00:00.0\n",
      "p14 l1,11,101,2023-11-25 12:00:00.0,20,Correct,2023-11-25 12:00:00.0,2023-11-25 12:00:00.0\n",
      "a14,11,101,2023-11-25 12:00:00.0,1000,Correct,2023-11-25 12:00:00.0,2023-11-25 12:00:00.0\n",
      "p14 l2,11,101,2023-11-25 12:00:00.0,30,Correct,2023-11-25 12:00:00.0,2023-11-25 12:00:00.0\n",
      "p14 l3,11,101,2023-11-25 12:00:00.0,25,Correct,2023-11-25 12:00:00.0,2023-11-25 12:00:00.0\n",
      "p14 l1,11,211,2023-11-25 12:00:00.0,10,Correct,2023-11-25 12:00:00.0,2023-11-25 12:00:00.0\n",
      "p14 l2,11,211,2023-11-25 12:00:00.0,15,Correct,2023-11-25 12:00:00.0,2023-11-25 12:00:00.0\n",
      "p14 l3,11,211,2023-11-25 12:00:00.0,17,Correct,2023-11-25 12:00:00.0,2023-11-25 12:00:00.0\n",
      "Processing complete. Results saved to processed_logs.gz\n"
     ]
    }
   ],
   "source": [
    "with gzip.open(log_file_path, \"rt\") as file, gzip.open(output_file, \"wt\") as out:\n",
    "    out.write(\n",
    "        \"series_id,location_id,meter_id,time,value,value_status,insert_time,extract_time\\n\"\n",
    "    )\n",
    "\n",
    "    for i, line in enumerate(file):\n",
    "        match = log_pattern.search(line)\n",
    "        if match:\n",
    "            (\n",
    "                series_id,\n",
    "                location_id,\n",
    "                meter_id,\n",
    "                time,\n",
    "                value,\n",
    "                value_status,\n",
    "                insert_time,\n",
    "                extract_time,\n",
    "            ) = match.groups()\n",
    "            print(\n",
    "                f\"{series_id},{location_id},{meter_id},{time},{value},{value_status},{insert_time},{extract_time}\"\n",
    "            )\n",
    "            data.append(\n",
    "                f\"{series_id},{location_id},{meter_id},{time},{value},{value_status},{insert_time},{extract_time}\\n\"\n",
    "            )\n",
    "        else:\n",
    "            print(f\"match not found {line}\")\n",
    "        if (i + 1) % chunk_size == 0:\n",
    "            out.writelines(data)\n",
    "            data.clear()\n",
    "            print(f\"Processed {i+1} lines...\")\n",
    "\n",
    "    if data:\n",
    "        out.writelines(data)\n",
    "\n",
    "print(f\"Processing complete. Results saved to {output_file}\")"
   ]
  },
  {
   "cell_type": "code",
   "execution_count": 53,
   "metadata": {},
   "outputs": [
    {
     "name": "stdout",
     "output_type": "stream",
     "text": [
      "Processing complete. Results saved to:\n",
      "  - value_trends_by_name.csv\n",
      "  - name_frequencies.csv\n"
     ]
    }
   ],
   "source": [
    "#proc_file = \"processed_logs.gz\"\n",
    "proc_file = \"data/generated_event.csv.gz\"\n",
    "\n",
    "name_counts = {}\n",
    "name_stats = {}\n",
    "\n",
    "for chunk in pd.read_csv(\n",
    "    proc_file, compression=\"gzip\", parse_dates=[\"time\"], chunksize=chunk_size\n",
    "):\n",
    "\n",
    "    chunk[\"value\"] = pd.to_numeric(chunk[\"value\"], errors=\"coerce\")\n",
    "    chunk = chunk.dropna(subset=[\"value\"])\n",
    "\n",
    "    for name, count in chunk[\"series_id\"].value_counts().items():\n",
    "        name_counts[name] = name_counts.get(name, 0) + count\n",
    "\n",
    "    for name, group in chunk.groupby(\"series_id\")[\"value\"]:\n",
    "        if name not in name_stats:\n",
    "            name_stats[name] = {\n",
    "                \"min\": float(\"inf\"),\n",
    "                \"max\": float(\"-inf\"),\n",
    "                \"sum\": 0,\n",
    "                \"count\": 0,\n",
    "            }\n",
    "        name_stats[name][\"min\"] = min(name_stats[name][\"min\"], group.min())\n",
    "        name_stats[name][\"max\"] = max(name_stats[name][\"max\"], group.max())\n",
    "        name_stats[name][\"sum\"] += group.sum()\n",
    "        name_stats[name][\"count\"] += len(group)\n",
    "\n",
    "# Convert aggregated stats to a DataFrame\n",
    "stats_df = pd.DataFrame.from_dict(name_stats, orient=\"index\")\n",
    "stats_df[\"mean\"] = stats_df[\"sum\"] / stats_df[\"count\"]\n",
    "stats_df.drop(columns=[\"sum\", \"count\"], inplace=True)\n",
    "\n",
    "# Convert name counts to DataFrame\n",
    "name_counts_df = pd.DataFrame(name_counts.items(), columns=[\"series_id\", \"count\"])\n",
    "\n",
    "# Save results\n",
    "stats_df.to_csv(\"value_trends_by_name.csv\")\n",
    "name_counts_df.to_csv(\"name_frequencies.csv\")\n",
    "\n",
    "print(\"Processing complete. Results saved to:\")\n",
    "print(\"  - value_trends_by_name.csv\")\n",
    "print(\"  - name_frequencies.csv\")"
   ]
  }
 ],
 "metadata": {
  "kernelspec": {
   "display_name": ".venv",
   "language": "python",
   "name": "python3"
  },
  "language_info": {
   "codemirror_mode": {
    "name": "ipython",
    "version": 3
   },
   "file_extension": ".py",
   "mimetype": "text/x-python",
   "name": "python",
   "nbconvert_exporter": "python",
   "pygments_lexer": "ipython3",
   "version": "3.11.7"
  }
 },
 "nbformat": 4,
 "nbformat_minor": 2
}
